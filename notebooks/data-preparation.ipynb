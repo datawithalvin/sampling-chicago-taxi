{
 "cells": [
  {
   "cell_type": "code",
   "execution_count": 66,
   "metadata": {},
   "outputs": [],
   "source": [
    "import pandas as pd\n",
    "import numpy as np\n",
    "import os\n",
    "import re\n",
    "\n",
    "import geopandas as gpd\n",
    "from shapely.geometry import Point\n",
    "from shapely.geometry.polygon import Polygon\n",
    "\n",
    "import altair as alt\n",
    "from sqlalchemy import create_engine"
   ]
  },
  {
   "cell_type": "code",
   "execution_count": 67,
   "metadata": {},
   "outputs": [
    {
     "name": "stdout",
     "output_type": "stream",
     "text": [
      "The sql extension is already loaded. To reload it, use:\n",
      "  %reload_ext sql\n"
     ]
    }
   ],
   "source": [
    "%load_ext sql\n",
    "%sql sqlite:///C:/sqlite/chicago-taxi.db"
   ]
  },
  {
   "cell_type": "code",
   "execution_count": 68,
   "metadata": {},
   "outputs": [
    {
     "name": "stdout",
     "output_type": "stream",
     "text": [
      " * sqlite:///C:/sqlite/chicago-taxi.db\n",
      "Done.\n"
     ]
    },
    {
     "data": {
      "text/html": [
       "<table>\n",
       "    <thead>\n",
       "        <tr>\n",
       "            <th>unique_key</th>\n",
       "            <th>trip_start_timestamp</th>\n",
       "            <th>trip_end_timestamp</th>\n",
       "            <th>trip_seconds</th>\n",
       "            <th>trip_miles</th>\n",
       "            <th>pickup_community_area</th>\n",
       "            <th>dropoff_community_area</th>\n",
       "            <th>pickup_location</th>\n",
       "            <th>dropoff_location</th>\n",
       "            <th>fare</th>\n",
       "            <th>payment_type</th>\n",
       "        </tr>\n",
       "    </thead>\n",
       "    <tbody>\n",
       "        <tr>\n",
       "            <td>unique_key</td>\n",
       "            <td>trip_start_timestamp</td>\n",
       "            <td>trip_end_timestamp</td>\n",
       "            <td>trip_seconds</td>\n",
       "            <td>trip_miles</td>\n",
       "            <td>pickup_community_area</td>\n",
       "            <td>dropoff_community_area</td>\n",
       "            <td>pickup_location</td>\n",
       "            <td>dropoff_location</td>\n",
       "            <td>fare</td>\n",
       "            <td>payment_type</td>\n",
       "        </tr>\n",
       "        <tr>\n",
       "            <td>3696bb7f386062eb3f42a48ae2a7df55cb290853</td>\n",
       "            <td>2022-09-30 23:30:00 UTC</td>\n",
       "            <td>2022-09-30 23:45:00 UTC</td>\n",
       "            <td>596</td>\n",
       "            <td>2.54</td>\n",
       "            <td>21</td>\n",
       "            <td>14</td>\n",
       "            <td>POINT (-87.7112105933 41.9386661962)</td>\n",
       "            <td>POINT (-87.7215590627 41.968069)</td>\n",
       "            <td>9.5</td>\n",
       "            <td>Cash</td>\n",
       "        </tr>\n",
       "        <tr>\n",
       "            <td>5b91f49428e134433e329c3b133b5a73fc466287</td>\n",
       "            <td>2022-09-30 12:45:00 UTC</td>\n",
       "            <td>2022-09-30 13:15:00 UTC</td>\n",
       "            <td>1740</td>\n",
       "            <td>8.8</td>\n",
       "            <td>40</td>\n",
       "            <td>8</td>\n",
       "            <td>POINT (-87.6179313803 41.7923572233)</td>\n",
       "            <td>POINT (-87.6333080367 41.899602111)</td>\n",
       "            <td>26.25</td>\n",
       "            <td>Unknown</td>\n",
       "        </tr>\n",
       "        <tr>\n",
       "            <td>646a2313684586b725de9618521a8bc359d1e91f</td>\n",
       "            <td>2022-09-30 04:30:00 UTC</td>\n",
       "            <td>2022-09-30 04:45:00 UTC</td>\n",
       "            <td>682</td>\n",
       "            <td>10.52</td>\n",
       "            <td>49</td>\n",
       "            <td>28</td>\n",
       "            <td>POINT (-87.6233665115 41.7065878819)</td>\n",
       "            <td>POINT (-87.6635175498 41.874005383)</td>\n",
       "            <td>27.75</td>\n",
       "            <td>Prcard</td>\n",
       "        </tr>\n",
       "        <tr>\n",
       "            <td>657349caf048dfc4f60d90eaace7aba71a739296</td>\n",
       "            <td>2022-09-30 15:15:00 UTC</td>\n",
       "            <td>2022-09-30 15:30:00 UTC</td>\n",
       "            <td>360</td>\n",
       "            <td>0.8</td>\n",
       "            <td>4</td>\n",
       "            <td>4</td>\n",
       "            <td>POINT (-87.6875155152 41.9751709433)</td>\n",
       "            <td>POINT (-87.6875155152 41.9751709433)</td>\n",
       "            <td>5.75</td>\n",
       "            <td>Cash</td>\n",
       "        </tr>\n",
       "    </tbody>\n",
       "</table>"
      ],
      "text/plain": [
       "[('unique_key', 'trip_start_timestamp', 'trip_end_timestamp', 'trip_seconds', 'trip_miles', 'pickup_community_area', 'dropoff_community_area', 'pickup_location', 'dropoff_location', 'fare', 'payment_type'),\n",
       " ('3696bb7f386062eb3f42a48ae2a7df55cb290853', '2022-09-30 23:30:00 UTC', '2022-09-30 23:45:00 UTC', 596, 2.54, 21, 14, 'POINT (-87.7112105933 41.9386661962)', 'POINT (-87.7215590627 41.968069)', 9.5, 'Cash'),\n",
       " ('5b91f49428e134433e329c3b133b5a73fc466287', '2022-09-30 12:45:00 UTC', '2022-09-30 13:15:00 UTC', 1740, 8.8, 40, 8, 'POINT (-87.6179313803 41.7923572233)', 'POINT (-87.6333080367 41.899602111)', 26.25, 'Unknown'),\n",
       " ('646a2313684586b725de9618521a8bc359d1e91f', '2022-09-30 04:30:00 UTC', '2022-09-30 04:45:00 UTC', 682, 10.52, 49, 28, 'POINT (-87.6233665115 41.7065878819)', 'POINT (-87.6635175498 41.874005383)', 27.75, 'Prcard'),\n",
       " ('657349caf048dfc4f60d90eaace7aba71a739296', '2022-09-30 15:15:00 UTC', '2022-09-30 15:30:00 UTC', 360, 0.8, 4, 4, 'POINT (-87.6875155152 41.9751709433)', 'POINT (-87.6875155152 41.9751709433)', 5.75, 'Cash')]"
      ]
     },
     "execution_count": 68,
     "metadata": {},
     "output_type": "execute_result"
    }
   ],
   "source": [
    "%%sql\n",
    "SELECT * FROM taxi_trips\n",
    "LIMIT 5"
   ]
  },
  {
   "cell_type": "code",
   "execution_count": 69,
   "metadata": {},
   "outputs": [
    {
     "data": {
      "text/html": [
       "<div>\n",
       "<style scoped>\n",
       "    .dataframe tbody tr th:only-of-type {\n",
       "        vertical-align: middle;\n",
       "    }\n",
       "\n",
       "    .dataframe tbody tr th {\n",
       "        vertical-align: top;\n",
       "    }\n",
       "\n",
       "    .dataframe thead th {\n",
       "        text-align: right;\n",
       "    }\n",
       "</style>\n",
       "<table border=\"1\" class=\"dataframe\">\n",
       "  <thead>\n",
       "    <tr style=\"text-align: right;\">\n",
       "      <th></th>\n",
       "      <th>unique_key</th>\n",
       "      <th>trip_start_timestamp</th>\n",
       "      <th>trip_end_timestamp</th>\n",
       "      <th>trip_seconds</th>\n",
       "      <th>trip_miles</th>\n",
       "      <th>pickup_community_area</th>\n",
       "      <th>dropoff_community_area</th>\n",
       "      <th>pickup_location</th>\n",
       "      <th>dropoff_location</th>\n",
       "      <th>fare</th>\n",
       "      <th>payment_type</th>\n",
       "    </tr>\n",
       "  </thead>\n",
       "  <tbody>\n",
       "    <tr>\n",
       "      <th>1</th>\n",
       "      <td>3696bb7f386062eb3f42a48ae2a7df55cb290853</td>\n",
       "      <td>2022-09-30 23:30:00 UTC</td>\n",
       "      <td>2022-09-30 23:45:00 UTC</td>\n",
       "      <td>596</td>\n",
       "      <td>2.54</td>\n",
       "      <td>21</td>\n",
       "      <td>14</td>\n",
       "      <td>POINT (-87.7112105933 41.9386661962)</td>\n",
       "      <td>POINT (-87.7215590627 41.968069)</td>\n",
       "      <td>9.5</td>\n",
       "      <td>Cash</td>\n",
       "    </tr>\n",
       "    <tr>\n",
       "      <th>2</th>\n",
       "      <td>5b91f49428e134433e329c3b133b5a73fc466287</td>\n",
       "      <td>2022-09-30 12:45:00 UTC</td>\n",
       "      <td>2022-09-30 13:15:00 UTC</td>\n",
       "      <td>1740</td>\n",
       "      <td>8.8</td>\n",
       "      <td>40</td>\n",
       "      <td>8</td>\n",
       "      <td>POINT (-87.6179313803 41.7923572233)</td>\n",
       "      <td>POINT (-87.6333080367 41.899602111)</td>\n",
       "      <td>26.25</td>\n",
       "      <td>Unknown</td>\n",
       "    </tr>\n",
       "    <tr>\n",
       "      <th>3</th>\n",
       "      <td>646a2313684586b725de9618521a8bc359d1e91f</td>\n",
       "      <td>2022-09-30 04:30:00 UTC</td>\n",
       "      <td>2022-09-30 04:45:00 UTC</td>\n",
       "      <td>682</td>\n",
       "      <td>10.52</td>\n",
       "      <td>49</td>\n",
       "      <td>28</td>\n",
       "      <td>POINT (-87.6233665115 41.7065878819)</td>\n",
       "      <td>POINT (-87.6635175498 41.874005383)</td>\n",
       "      <td>27.75</td>\n",
       "      <td>Prcard</td>\n",
       "    </tr>\n",
       "    <tr>\n",
       "      <th>4</th>\n",
       "      <td>657349caf048dfc4f60d90eaace7aba71a739296</td>\n",
       "      <td>2022-09-30 15:15:00 UTC</td>\n",
       "      <td>2022-09-30 15:30:00 UTC</td>\n",
       "      <td>360</td>\n",
       "      <td>0.8</td>\n",
       "      <td>4</td>\n",
       "      <td>4</td>\n",
       "      <td>POINT (-87.6875155152 41.9751709433)</td>\n",
       "      <td>POINT (-87.6875155152 41.9751709433)</td>\n",
       "      <td>5.75</td>\n",
       "      <td>Cash</td>\n",
       "    </tr>\n",
       "    <tr>\n",
       "      <th>5</th>\n",
       "      <td>462918ee530c76e7a534a0bebffe0c480bf4ffb8</td>\n",
       "      <td>2022-10-31 15:30:00 UTC</td>\n",
       "      <td>2022-10-31 16:00:00 UTC</td>\n",
       "      <td>960</td>\n",
       "      <td>6.4</td>\n",
       "      <td>39</td>\n",
       "      <td>28</td>\n",
       "      <td>POINT (-87.5961833442 41.8089162826)</td>\n",
       "      <td>POINT (-87.6635175498 41.874005383)</td>\n",
       "      <td>19.25</td>\n",
       "      <td>Unknown</td>\n",
       "    </tr>\n",
       "  </tbody>\n",
       "</table>\n",
       "</div>"
      ],
      "text/plain": [
       "                                 unique_key     trip_start_timestamp   \n",
       "1  3696bb7f386062eb3f42a48ae2a7df55cb290853  2022-09-30 23:30:00 UTC  \\\n",
       "2  5b91f49428e134433e329c3b133b5a73fc466287  2022-09-30 12:45:00 UTC   \n",
       "3  646a2313684586b725de9618521a8bc359d1e91f  2022-09-30 04:30:00 UTC   \n",
       "4  657349caf048dfc4f60d90eaace7aba71a739296  2022-09-30 15:15:00 UTC   \n",
       "5  462918ee530c76e7a534a0bebffe0c480bf4ffb8  2022-10-31 15:30:00 UTC   \n",
       "\n",
       "        trip_end_timestamp trip_seconds trip_miles pickup_community_area   \n",
       "1  2022-09-30 23:45:00 UTC          596       2.54                    21  \\\n",
       "2  2022-09-30 13:15:00 UTC         1740        8.8                    40   \n",
       "3  2022-09-30 04:45:00 UTC          682      10.52                    49   \n",
       "4  2022-09-30 15:30:00 UTC          360        0.8                     4   \n",
       "5  2022-10-31 16:00:00 UTC          960        6.4                    39   \n",
       "\n",
       "  dropoff_community_area                       pickup_location   \n",
       "1                     14  POINT (-87.7112105933 41.9386661962)  \\\n",
       "2                      8  POINT (-87.6179313803 41.7923572233)   \n",
       "3                     28  POINT (-87.6233665115 41.7065878819)   \n",
       "4                      4  POINT (-87.6875155152 41.9751709433)   \n",
       "5                     28  POINT (-87.5961833442 41.8089162826)   \n",
       "\n",
       "                       dropoff_location   fare payment_type  \n",
       "1      POINT (-87.7215590627 41.968069)    9.5         Cash  \n",
       "2   POINT (-87.6333080367 41.899602111)  26.25      Unknown  \n",
       "3   POINT (-87.6635175498 41.874005383)  27.75       Prcard  \n",
       "4  POINT (-87.6875155152 41.9751709433)   5.75         Cash  \n",
       "5   POINT (-87.6635175498 41.874005383)  19.25      Unknown  "
      ]
     },
     "metadata": {},
     "output_type": "display_data"
    },
    {
     "data": {
      "text/plain": [
       "(4072975, 11)"
      ]
     },
     "metadata": {},
     "output_type": "display_data"
    }
   ],
   "source": [
    "# set db and table\n",
    "db_path = \"sqlite:///C:/sqlite/chicago-taxi.db\"\n",
    "table = \"taxi_trips\"\n",
    "\n",
    "# connect to the db, read the table and pass it into a dataframe\n",
    "engine = create_engine(db_path)\n",
    "\n",
    "df = pd.read_sql(f\"SELECT * FROM {table}\", engine)\n",
    "df = df.drop(index=0)\n",
    "\n",
    "# display the first five rows\n",
    "display(df.head(), df.shape)"
   ]
  },
  {
   "cell_type": "code",
   "execution_count": 70,
   "metadata": {},
   "outputs": [
    {
     "data": {
      "text/plain": [
       "unique_key                0\n",
       "trip_start_timestamp      0\n",
       "trip_end_timestamp        0\n",
       "trip_seconds              0\n",
       "trip_miles                0\n",
       "pickup_community_area     0\n",
       "dropoff_community_area    0\n",
       "pickup_location           0\n",
       "dropoff_location          0\n",
       "fare                      0\n",
       "payment_type              0\n",
       "dtype: int64"
      ]
     },
     "execution_count": 70,
     "metadata": {},
     "output_type": "execute_result"
    }
   ],
   "source": [
    "df.isnull().sum()"
   ]
  },
  {
   "cell_type": "code",
   "execution_count": 71,
   "metadata": {},
   "outputs": [
    {
     "ename": "ValueError",
     "evalue": "invalid literal for int() with base 10: ''",
     "output_type": "error",
     "traceback": [
      "\u001b[1;31m---------------------------------------------------------------------------\u001b[0m",
      "\u001b[1;31mValueError\u001b[0m                                Traceback (most recent call last)",
      "Cell \u001b[1;32mIn[71], line 1\u001b[0m\n\u001b[1;32m----> 1\u001b[0m df[\u001b[39m\"\u001b[39m\u001b[39mtrip_seconds\u001b[39m\u001b[39m\"\u001b[39m] \u001b[39m=\u001b[39m df[\u001b[39m\"\u001b[39;49m\u001b[39mtrip_seconds\u001b[39;49m\u001b[39m\"\u001b[39;49m]\u001b[39m.\u001b[39;49mastype(\u001b[39m\"\u001b[39;49m\u001b[39mint64\u001b[39;49m\u001b[39m\"\u001b[39;49m)\n\u001b[0;32m      2\u001b[0m df[\u001b[39m\"\u001b[39m\u001b[39mtrip_minutes\u001b[39m\u001b[39m\"\u001b[39m] \u001b[39m=\u001b[39m \u001b[39mround\u001b[39m((df[\u001b[39m\"\u001b[39m\u001b[39mtrip_seconds\u001b[39m\u001b[39m\"\u001b[39m]\u001b[39m/\u001b[39m\u001b[39m60\u001b[39m), \u001b[39m2\u001b[39m)\n\u001b[0;32m      4\u001b[0m df\u001b[39m.\u001b[39mhead(\u001b[39m3\u001b[39m)\n",
      "File \u001b[1;32mc:\\Users\\PF2L6BL6\\anaconda3\\envs\\pacmann-projects\\lib\\site-packages\\pandas\\core\\generic.py:6324\u001b[0m, in \u001b[0;36mNDFrame.astype\u001b[1;34m(self, dtype, copy, errors)\u001b[0m\n\u001b[0;32m   6317\u001b[0m     results \u001b[39m=\u001b[39m [\n\u001b[0;32m   6318\u001b[0m         \u001b[39mself\u001b[39m\u001b[39m.\u001b[39miloc[:, i]\u001b[39m.\u001b[39mastype(dtype, copy\u001b[39m=\u001b[39mcopy)\n\u001b[0;32m   6319\u001b[0m         \u001b[39mfor\u001b[39;00m i \u001b[39min\u001b[39;00m \u001b[39mrange\u001b[39m(\u001b[39mlen\u001b[39m(\u001b[39mself\u001b[39m\u001b[39m.\u001b[39mcolumns))\n\u001b[0;32m   6320\u001b[0m     ]\n\u001b[0;32m   6322\u001b[0m \u001b[39melse\u001b[39;00m:\n\u001b[0;32m   6323\u001b[0m     \u001b[39m# else, only a single dtype is given\u001b[39;00m\n\u001b[1;32m-> 6324\u001b[0m     new_data \u001b[39m=\u001b[39m \u001b[39mself\u001b[39;49m\u001b[39m.\u001b[39;49m_mgr\u001b[39m.\u001b[39;49mastype(dtype\u001b[39m=\u001b[39;49mdtype, copy\u001b[39m=\u001b[39;49mcopy, errors\u001b[39m=\u001b[39;49merrors)\n\u001b[0;32m   6325\u001b[0m     \u001b[39mreturn\u001b[39;00m \u001b[39mself\u001b[39m\u001b[39m.\u001b[39m_constructor(new_data)\u001b[39m.\u001b[39m__finalize__(\u001b[39mself\u001b[39m, method\u001b[39m=\u001b[39m\u001b[39m\"\u001b[39m\u001b[39mastype\u001b[39m\u001b[39m\"\u001b[39m)\n\u001b[0;32m   6327\u001b[0m \u001b[39m# GH 33113: handle empty frame or series\u001b[39;00m\n",
      "File \u001b[1;32mc:\\Users\\PF2L6BL6\\anaconda3\\envs\\pacmann-projects\\lib\\site-packages\\pandas\\core\\internals\\managers.py:451\u001b[0m, in \u001b[0;36mBaseBlockManager.astype\u001b[1;34m(self, dtype, copy, errors)\u001b[0m\n\u001b[0;32m    448\u001b[0m \u001b[39melif\u001b[39;00m using_copy_on_write():\n\u001b[0;32m    449\u001b[0m     copy \u001b[39m=\u001b[39m \u001b[39mFalse\u001b[39;00m\n\u001b[1;32m--> 451\u001b[0m \u001b[39mreturn\u001b[39;00m \u001b[39mself\u001b[39;49m\u001b[39m.\u001b[39;49mapply(\n\u001b[0;32m    452\u001b[0m     \u001b[39m\"\u001b[39;49m\u001b[39mastype\u001b[39;49m\u001b[39m\"\u001b[39;49m,\n\u001b[0;32m    453\u001b[0m     dtype\u001b[39m=\u001b[39;49mdtype,\n\u001b[0;32m    454\u001b[0m     copy\u001b[39m=\u001b[39;49mcopy,\n\u001b[0;32m    455\u001b[0m     errors\u001b[39m=\u001b[39;49merrors,\n\u001b[0;32m    456\u001b[0m     using_cow\u001b[39m=\u001b[39;49musing_copy_on_write(),\n\u001b[0;32m    457\u001b[0m )\n",
      "File \u001b[1;32mc:\\Users\\PF2L6BL6\\anaconda3\\envs\\pacmann-projects\\lib\\site-packages\\pandas\\core\\internals\\managers.py:352\u001b[0m, in \u001b[0;36mBaseBlockManager.apply\u001b[1;34m(self, f, align_keys, **kwargs)\u001b[0m\n\u001b[0;32m    350\u001b[0m         applied \u001b[39m=\u001b[39m b\u001b[39m.\u001b[39mapply(f, \u001b[39m*\u001b[39m\u001b[39m*\u001b[39mkwargs)\n\u001b[0;32m    351\u001b[0m     \u001b[39melse\u001b[39;00m:\n\u001b[1;32m--> 352\u001b[0m         applied \u001b[39m=\u001b[39m \u001b[39mgetattr\u001b[39m(b, f)(\u001b[39m*\u001b[39m\u001b[39m*\u001b[39mkwargs)\n\u001b[0;32m    353\u001b[0m     result_blocks \u001b[39m=\u001b[39m extend_blocks(applied, result_blocks)\n\u001b[0;32m    355\u001b[0m out \u001b[39m=\u001b[39m \u001b[39mtype\u001b[39m(\u001b[39mself\u001b[39m)\u001b[39m.\u001b[39mfrom_blocks(result_blocks, \u001b[39mself\u001b[39m\u001b[39m.\u001b[39maxes)\n",
      "File \u001b[1;32mc:\\Users\\PF2L6BL6\\anaconda3\\envs\\pacmann-projects\\lib\\site-packages\\pandas\\core\\internals\\blocks.py:511\u001b[0m, in \u001b[0;36mBlock.astype\u001b[1;34m(self, dtype, copy, errors, using_cow)\u001b[0m\n\u001b[0;32m    491\u001b[0m \u001b[39m\u001b[39m\u001b[39m\"\"\"\u001b[39;00m\n\u001b[0;32m    492\u001b[0m \u001b[39mCoerce to the new dtype.\u001b[39;00m\n\u001b[0;32m    493\u001b[0m \n\u001b[1;32m   (...)\u001b[0m\n\u001b[0;32m    507\u001b[0m \u001b[39mBlock\u001b[39;00m\n\u001b[0;32m    508\u001b[0m \u001b[39m\"\"\"\u001b[39;00m\n\u001b[0;32m    509\u001b[0m values \u001b[39m=\u001b[39m \u001b[39mself\u001b[39m\u001b[39m.\u001b[39mvalues\n\u001b[1;32m--> 511\u001b[0m new_values \u001b[39m=\u001b[39m astype_array_safe(values, dtype, copy\u001b[39m=\u001b[39;49mcopy, errors\u001b[39m=\u001b[39;49merrors)\n\u001b[0;32m    513\u001b[0m new_values \u001b[39m=\u001b[39m maybe_coerce_values(new_values)\n\u001b[0;32m    515\u001b[0m refs \u001b[39m=\u001b[39m \u001b[39mNone\u001b[39;00m\n",
      "File \u001b[1;32mc:\\Users\\PF2L6BL6\\anaconda3\\envs\\pacmann-projects\\lib\\site-packages\\pandas\\core\\dtypes\\astype.py:242\u001b[0m, in \u001b[0;36mastype_array_safe\u001b[1;34m(values, dtype, copy, errors)\u001b[0m\n\u001b[0;32m    239\u001b[0m     dtype \u001b[39m=\u001b[39m dtype\u001b[39m.\u001b[39mnumpy_dtype\n\u001b[0;32m    241\u001b[0m \u001b[39mtry\u001b[39;00m:\n\u001b[1;32m--> 242\u001b[0m     new_values \u001b[39m=\u001b[39m astype_array(values, dtype, copy\u001b[39m=\u001b[39;49mcopy)\n\u001b[0;32m    243\u001b[0m \u001b[39mexcept\u001b[39;00m (\u001b[39mValueError\u001b[39;00m, \u001b[39mTypeError\u001b[39;00m):\n\u001b[0;32m    244\u001b[0m     \u001b[39m# e.g. _astype_nansafe can fail on object-dtype of strings\u001b[39;00m\n\u001b[0;32m    245\u001b[0m     \u001b[39m#  trying to convert to float\u001b[39;00m\n\u001b[0;32m    246\u001b[0m     \u001b[39mif\u001b[39;00m errors \u001b[39m==\u001b[39m \u001b[39m\"\u001b[39m\u001b[39mignore\u001b[39m\u001b[39m\"\u001b[39m:\n",
      "File \u001b[1;32mc:\\Users\\PF2L6BL6\\anaconda3\\envs\\pacmann-projects\\lib\\site-packages\\pandas\\core\\dtypes\\astype.py:187\u001b[0m, in \u001b[0;36mastype_array\u001b[1;34m(values, dtype, copy)\u001b[0m\n\u001b[0;32m    184\u001b[0m     values \u001b[39m=\u001b[39m values\u001b[39m.\u001b[39mastype(dtype, copy\u001b[39m=\u001b[39mcopy)\n\u001b[0;32m    186\u001b[0m \u001b[39melse\u001b[39;00m:\n\u001b[1;32m--> 187\u001b[0m     values \u001b[39m=\u001b[39m _astype_nansafe(values, dtype, copy\u001b[39m=\u001b[39;49mcopy)\n\u001b[0;32m    189\u001b[0m \u001b[39m# in pandas we don't store numpy str dtypes, so convert to object\u001b[39;00m\n\u001b[0;32m    190\u001b[0m \u001b[39mif\u001b[39;00m \u001b[39misinstance\u001b[39m(dtype, np\u001b[39m.\u001b[39mdtype) \u001b[39mand\u001b[39;00m \u001b[39missubclass\u001b[39m(values\u001b[39m.\u001b[39mdtype\u001b[39m.\u001b[39mtype, \u001b[39mstr\u001b[39m):\n",
      "File \u001b[1;32mc:\\Users\\PF2L6BL6\\anaconda3\\envs\\pacmann-projects\\lib\\site-packages\\pandas\\core\\dtypes\\astype.py:138\u001b[0m, in \u001b[0;36m_astype_nansafe\u001b[1;34m(arr, dtype, copy, skipna)\u001b[0m\n\u001b[0;32m    134\u001b[0m     \u001b[39mraise\u001b[39;00m \u001b[39mValueError\u001b[39;00m(msg)\n\u001b[0;32m    136\u001b[0m \u001b[39mif\u001b[39;00m copy \u001b[39mor\u001b[39;00m is_object_dtype(arr\u001b[39m.\u001b[39mdtype) \u001b[39mor\u001b[39;00m is_object_dtype(dtype):\n\u001b[0;32m    137\u001b[0m     \u001b[39m# Explicit copy, or required since NumPy can't view from / to object.\u001b[39;00m\n\u001b[1;32m--> 138\u001b[0m     \u001b[39mreturn\u001b[39;00m arr\u001b[39m.\u001b[39;49mastype(dtype, copy\u001b[39m=\u001b[39;49m\u001b[39mTrue\u001b[39;49;00m)\n\u001b[0;32m    140\u001b[0m \u001b[39mreturn\u001b[39;00m arr\u001b[39m.\u001b[39mastype(dtype, copy\u001b[39m=\u001b[39mcopy)\n",
      "\u001b[1;31mValueError\u001b[0m: invalid literal for int() with base 10: ''"
     ]
    }
   ],
   "source": [
    "df[\"trip_seconds\"] = df[\"trip_seconds\"].astype(\"int64\")\n",
    "df[\"trip_minutes\"] = round((df[\"trip_seconds\"]/60), 2)\n",
    "\n",
    "df.head(3)"
   ]
  },
  {
   "cell_type": "code",
   "execution_count": 72,
   "metadata": {},
   "outputs": [
    {
     "data": {
      "text/html": [
       "<div>\n",
       "<style scoped>\n",
       "    .dataframe tbody tr th:only-of-type {\n",
       "        vertical-align: middle;\n",
       "    }\n",
       "\n",
       "    .dataframe tbody tr th {\n",
       "        vertical-align: top;\n",
       "    }\n",
       "\n",
       "    .dataframe thead th {\n",
       "        text-align: right;\n",
       "    }\n",
       "</style>\n",
       "<table border=\"1\" class=\"dataframe\">\n",
       "  <thead>\n",
       "    <tr style=\"text-align: right;\">\n",
       "      <th></th>\n",
       "      <th>unique_key</th>\n",
       "      <th>trip_start_timestamp</th>\n",
       "      <th>trip_end_timestamp</th>\n",
       "      <th>trip_seconds</th>\n",
       "      <th>trip_miles</th>\n",
       "      <th>pickup_community_area</th>\n",
       "      <th>dropoff_community_area</th>\n",
       "      <th>pickup_location</th>\n",
       "      <th>dropoff_location</th>\n",
       "      <th>fare</th>\n",
       "      <th>payment_type</th>\n",
       "    </tr>\n",
       "  </thead>\n",
       "  <tbody>\n",
       "    <tr>\n",
       "      <th>125</th>\n",
       "      <td>20ebfe2de42ce79837cac6154f67489224a97c0d</td>\n",
       "      <td>2022-11-16 14:45:00 UTC</td>\n",
       "      <td>2022-11-19 11:30:00 UTC</td>\n",
       "      <td></td>\n",
       "      <td>16.77</td>\n",
       "      <td>63</td>\n",
       "      <td>76</td>\n",
       "      <td>POINT (-87.6964352325 41.795430631)</td>\n",
       "      <td>POINT (-87.913624596 41.9802643146)</td>\n",
       "      <td>65.0</td>\n",
       "      <td>Cash</td>\n",
       "    </tr>\n",
       "    <tr>\n",
       "      <th>3057</th>\n",
       "      <td>6294bf48d0196e41e40e3e73b532244505ff3b05</td>\n",
       "      <td>2022-11-05 10:15:00 UTC</td>\n",
       "      <td>2022-11-07 04:30:00 UTC</td>\n",
       "      <td></td>\n",
       "      <td>0.0</td>\n",
       "      <td>8</td>\n",
       "      <td>76</td>\n",
       "      <td>POINT (-87.6321092196 41.9002656868)</td>\n",
       "      <td>POINT (-87.9030396611 41.9790708201)</td>\n",
       "      <td>3.25</td>\n",
       "      <td>Cash</td>\n",
       "    </tr>\n",
       "  </tbody>\n",
       "</table>\n",
       "</div>"
      ],
      "text/plain": [
       "                                    unique_key     trip_start_timestamp   \n",
       "125   20ebfe2de42ce79837cac6154f67489224a97c0d  2022-11-16 14:45:00 UTC  \\\n",
       "3057  6294bf48d0196e41e40e3e73b532244505ff3b05  2022-11-05 10:15:00 UTC   \n",
       "\n",
       "           trip_end_timestamp trip_seconds trip_miles pickup_community_area   \n",
       "125   2022-11-19 11:30:00 UTC                   16.77                    63  \\\n",
       "3057  2022-11-07 04:30:00 UTC                     0.0                     8   \n",
       "\n",
       "     dropoff_community_area                       pickup_location   \n",
       "125                      76   POINT (-87.6964352325 41.795430631)  \\\n",
       "3057                     76  POINT (-87.6321092196 41.9002656868)   \n",
       "\n",
       "                          dropoff_location  fare payment_type  \n",
       "125    POINT (-87.913624596 41.9802643146)  65.0         Cash  \n",
       "3057  POINT (-87.9030396611 41.9790708201)  3.25         Cash  "
      ]
     },
     "metadata": {},
     "output_type": "display_data"
    }
   ],
   "source": [
    "display(df[df[\"trip_seconds\"]==\"\"].head(2))"
   ]
  },
  {
   "cell_type": "code",
   "execution_count": 73,
   "metadata": {},
   "outputs": [
    {
     "data": {
      "text/html": [
       "<div>\n",
       "<style scoped>\n",
       "    .dataframe tbody tr th:only-of-type {\n",
       "        vertical-align: middle;\n",
       "    }\n",
       "\n",
       "    .dataframe tbody tr th {\n",
       "        vertical-align: top;\n",
       "    }\n",
       "\n",
       "    .dataframe thead th {\n",
       "        text-align: right;\n",
       "    }\n",
       "</style>\n",
       "<table border=\"1\" class=\"dataframe\">\n",
       "  <thead>\n",
       "    <tr style=\"text-align: right;\">\n",
       "      <th></th>\n",
       "      <th>unique_key</th>\n",
       "      <th>trip_start_timestamp</th>\n",
       "      <th>trip_end_timestamp</th>\n",
       "      <th>trip_seconds</th>\n",
       "      <th>trip_miles</th>\n",
       "      <th>pickup_community_area</th>\n",
       "      <th>dropoff_community_area</th>\n",
       "      <th>pickup_location</th>\n",
       "      <th>dropoff_location</th>\n",
       "      <th>fare</th>\n",
       "      <th>payment_type</th>\n",
       "      <th>trip_minutes</th>\n",
       "    </tr>\n",
       "  </thead>\n",
       "  <tbody>\n",
       "    <tr>\n",
       "      <th>1</th>\n",
       "      <td>3696bb7f386062eb3f42a48ae2a7df55cb290853</td>\n",
       "      <td>2022-09-30 23:30:00 UTC</td>\n",
       "      <td>2022-09-30 23:45:00 UTC</td>\n",
       "      <td>596.0</td>\n",
       "      <td>2.54</td>\n",
       "      <td>21</td>\n",
       "      <td>14</td>\n",
       "      <td>POINT (-87.7112105933 41.9386661962)</td>\n",
       "      <td>POINT (-87.7215590627 41.968069)</td>\n",
       "      <td>9.5</td>\n",
       "      <td>Cash</td>\n",
       "      <td>9.93</td>\n",
       "    </tr>\n",
       "    <tr>\n",
       "      <th>2</th>\n",
       "      <td>5b91f49428e134433e329c3b133b5a73fc466287</td>\n",
       "      <td>2022-09-30 12:45:00 UTC</td>\n",
       "      <td>2022-09-30 13:15:00 UTC</td>\n",
       "      <td>1740.0</td>\n",
       "      <td>8.8</td>\n",
       "      <td>40</td>\n",
       "      <td>8</td>\n",
       "      <td>POINT (-87.6179313803 41.7923572233)</td>\n",
       "      <td>POINT (-87.6333080367 41.899602111)</td>\n",
       "      <td>26.25</td>\n",
       "      <td>Unknown</td>\n",
       "      <td>29.00</td>\n",
       "    </tr>\n",
       "    <tr>\n",
       "      <th>3</th>\n",
       "      <td>646a2313684586b725de9618521a8bc359d1e91f</td>\n",
       "      <td>2022-09-30 04:30:00 UTC</td>\n",
       "      <td>2022-09-30 04:45:00 UTC</td>\n",
       "      <td>682.0</td>\n",
       "      <td>10.52</td>\n",
       "      <td>49</td>\n",
       "      <td>28</td>\n",
       "      <td>POINT (-87.6233665115 41.7065878819)</td>\n",
       "      <td>POINT (-87.6635175498 41.874005383)</td>\n",
       "      <td>27.75</td>\n",
       "      <td>Prcard</td>\n",
       "      <td>11.37</td>\n",
       "    </tr>\n",
       "  </tbody>\n",
       "</table>\n",
       "</div>"
      ],
      "text/plain": [
       "                                 unique_key     trip_start_timestamp   \n",
       "1  3696bb7f386062eb3f42a48ae2a7df55cb290853  2022-09-30 23:30:00 UTC  \\\n",
       "2  5b91f49428e134433e329c3b133b5a73fc466287  2022-09-30 12:45:00 UTC   \n",
       "3  646a2313684586b725de9618521a8bc359d1e91f  2022-09-30 04:30:00 UTC   \n",
       "\n",
       "        trip_end_timestamp  trip_seconds trip_miles pickup_community_area   \n",
       "1  2022-09-30 23:45:00 UTC         596.0       2.54                    21  \\\n",
       "2  2022-09-30 13:15:00 UTC        1740.0        8.8                    40   \n",
       "3  2022-09-30 04:45:00 UTC         682.0      10.52                    49   \n",
       "\n",
       "  dropoff_community_area                       pickup_location   \n",
       "1                     14  POINT (-87.7112105933 41.9386661962)  \\\n",
       "2                      8  POINT (-87.6179313803 41.7923572233)   \n",
       "3                     28  POINT (-87.6233665115 41.7065878819)   \n",
       "\n",
       "                      dropoff_location   fare payment_type  trip_minutes  \n",
       "1     POINT (-87.7215590627 41.968069)    9.5         Cash          9.93  \n",
       "2  POINT (-87.6333080367 41.899602111)  26.25      Unknown         29.00  \n",
       "3  POINT (-87.6635175498 41.874005383)  27.75       Prcard         11.37  "
      ]
     },
     "execution_count": 73,
     "metadata": {},
     "output_type": "execute_result"
    }
   ],
   "source": [
    "# convert trip_seconds from seconds to minutes\n",
    "df[\"trip_seconds\"] = pd.to_numeric(df[\"trip_seconds\"], errors=\"coerce\")\n",
    "df[\"trip_minutes\"] = round((df[\"trip_seconds\"]/60), 2)\n",
    "\n",
    "df.head(3)"
   ]
  },
  {
   "cell_type": "code",
   "execution_count": 74,
   "metadata": {},
   "outputs": [
    {
     "data": {
      "text/plain": [
       "unique_key                  0\n",
       "trip_start_timestamp        0\n",
       "trip_end_timestamp          0\n",
       "trip_seconds              965\n",
       "trip_miles                  0\n",
       "pickup_community_area       0\n",
       "dropoff_community_area      0\n",
       "pickup_location             0\n",
       "dropoff_location            0\n",
       "fare                        0\n",
       "payment_type                0\n",
       "trip_minutes              965\n",
       "dtype: int64"
      ]
     },
     "execution_count": 74,
     "metadata": {},
     "output_type": "execute_result"
    }
   ],
   "source": [
    "df.isnull().sum()"
   ]
  },
  {
   "cell_type": "code",
   "execution_count": 75,
   "metadata": {},
   "outputs": [
    {
     "data": {
      "text/html": [
       "<div>\n",
       "<style scoped>\n",
       "    .dataframe tbody tr th:only-of-type {\n",
       "        vertical-align: middle;\n",
       "    }\n",
       "\n",
       "    .dataframe tbody tr th {\n",
       "        vertical-align: top;\n",
       "    }\n",
       "\n",
       "    .dataframe thead th {\n",
       "        text-align: right;\n",
       "    }\n",
       "</style>\n",
       "<table border=\"1\" class=\"dataframe\">\n",
       "  <thead>\n",
       "    <tr style=\"text-align: right;\">\n",
       "      <th></th>\n",
       "      <th>community</th>\n",
       "      <th>geometry</th>\n",
       "    </tr>\n",
       "  </thead>\n",
       "  <tbody>\n",
       "    <tr>\n",
       "      <th>0</th>\n",
       "      <td>DOUGLAS</td>\n",
       "      <td>MULTIPOLYGON (((-87.60914 41.84469, -87.60915 ...</td>\n",
       "    </tr>\n",
       "    <tr>\n",
       "      <th>1</th>\n",
       "      <td>OAKLAND</td>\n",
       "      <td>MULTIPOLYGON (((-87.59215 41.81693, -87.59231 ...</td>\n",
       "    </tr>\n",
       "    <tr>\n",
       "      <th>2</th>\n",
       "      <td>FULLER PARK</td>\n",
       "      <td>MULTIPOLYGON (((-87.62880 41.80189, -87.62879 ...</td>\n",
       "    </tr>\n",
       "    <tr>\n",
       "      <th>3</th>\n",
       "      <td>GRAND BOULEVARD</td>\n",
       "      <td>MULTIPOLYGON (((-87.60671 41.81681, -87.60670 ...</td>\n",
       "    </tr>\n",
       "    <tr>\n",
       "      <th>4</th>\n",
       "      <td>KENWOOD</td>\n",
       "      <td>MULTIPOLYGON (((-87.59215 41.81693, -87.59215 ...</td>\n",
       "    </tr>\n",
       "  </tbody>\n",
       "</table>\n",
       "</div>"
      ],
      "text/plain": [
       "         community                                           geometry\n",
       "0          DOUGLAS  MULTIPOLYGON (((-87.60914 41.84469, -87.60915 ...\n",
       "1          OAKLAND  MULTIPOLYGON (((-87.59215 41.81693, -87.59231 ...\n",
       "2      FULLER PARK  MULTIPOLYGON (((-87.62880 41.80189, -87.62879 ...\n",
       "3  GRAND BOULEVARD  MULTIPOLYGON (((-87.60671 41.81681, -87.60670 ...\n",
       "4          KENWOOD  MULTIPOLYGON (((-87.59215 41.81693, -87.59215 ..."
      ]
     },
     "execution_count": 75,
     "metadata": {},
     "output_type": "execute_result"
    }
   ],
   "source": [
    "# read geojson chicago\n",
    "chicago_path = \"../dataset/Boundaries - Community Areas (current).geojson\"\n",
    "boundaries = gpd.read_file(chicago_path)\n",
    "boundaries = boundaries[[\"community\", \"geometry\"]]\n",
    "\n",
    "boundaries.head()"
   ]
  },
  {
   "cell_type": "code",
   "execution_count": 76,
   "metadata": {},
   "outputs": [
    {
     "data": {
      "text/html": [
       "<div>\n",
       "<style scoped>\n",
       "    .dataframe tbody tr th:only-of-type {\n",
       "        vertical-align: middle;\n",
       "    }\n",
       "\n",
       "    .dataframe tbody tr th {\n",
       "        vertical-align: top;\n",
       "    }\n",
       "\n",
       "    .dataframe thead th {\n",
       "        text-align: right;\n",
       "    }\n",
       "</style>\n",
       "<table border=\"1\" class=\"dataframe\">\n",
       "  <thead>\n",
       "    <tr style=\"text-align: right;\">\n",
       "      <th></th>\n",
       "      <th>community</th>\n",
       "      <th>geometry</th>\n",
       "    </tr>\n",
       "  </thead>\n",
       "  <tbody>\n",
       "    <tr>\n",
       "      <th>0</th>\n",
       "      <td>Douglas</td>\n",
       "      <td>MULTIPOLYGON (((-87.60914 41.84469, -87.60915 ...</td>\n",
       "    </tr>\n",
       "    <tr>\n",
       "      <th>1</th>\n",
       "      <td>Oakland</td>\n",
       "      <td>MULTIPOLYGON (((-87.59215 41.81693, -87.59231 ...</td>\n",
       "    </tr>\n",
       "    <tr>\n",
       "      <th>2</th>\n",
       "      <td>Fuller Park</td>\n",
       "      <td>MULTIPOLYGON (((-87.62880 41.80189, -87.62879 ...</td>\n",
       "    </tr>\n",
       "  </tbody>\n",
       "</table>\n",
       "</div>"
      ],
      "text/plain": [
       "     community                                           geometry\n",
       "0      Douglas  MULTIPOLYGON (((-87.60914 41.84469, -87.60915 ...\n",
       "1      Oakland  MULTIPOLYGON (((-87.59215 41.81693, -87.59231 ...\n",
       "2  Fuller Park  MULTIPOLYGON (((-87.62880 41.80189, -87.62879 ..."
      ]
     },
     "execution_count": 76,
     "metadata": {},
     "output_type": "execute_result"
    }
   ],
   "source": [
    "# change into a tittle case\n",
    "boundaries[\"community\"] = boundaries[\"community\"].apply(lambda x: x.title())\n",
    "\n",
    "boundaries.head(3)"
   ]
  },
  {
   "cell_type": "code",
   "execution_count": 77,
   "metadata": {},
   "outputs": [
    {
     "data": {
      "text/plain": [
       "<Axes: >"
      ]
     },
     "execution_count": 77,
     "metadata": {},
     "output_type": "execute_result"
    },
    {
     "data": {
      "image/png": "[encoded data removed]",
      "text/plain": [
       "<Figure size 640x480 with 1 Axes>"
      ]
     },
     "metadata": {},
     "output_type": "display_data"
    }
   ],
   "source": [
    "boundaries.plot()"
   ]
  },
  {
   "cell_type": "code",
   "execution_count": 90,
   "metadata": {},
   "outputs": [
    {
     "data": {
      "text/plain": [
       "(77, 2)"
      ]
     },
     "execution_count": 90,
     "metadata": {},
     "output_type": "execute_result"
    }
   ],
   "source": [
    "boundaries.shape"
   ]
  },
  {
   "attachments": {},
   "cell_type": "markdown",
   "metadata": {},
   "source": [
    "perform spatial joins"
   ]
  },
  {
   "cell_type": "code",
   "execution_count": 78,
   "metadata": {},
   "outputs": [
    {
     "ename": "TypeError",
     "evalue": "iteration over a 0-d array",
     "output_type": "error",
     "traceback": [
      "\u001b[1;31m---------------------------------------------------------------------------\u001b[0m",
      "\u001b[1;31mTypeError\u001b[0m                                 Traceback (most recent call last)",
      "Cell \u001b[1;32mIn[78], line 1\u001b[0m\n\u001b[1;32m----> 1\u001b[0m df[\u001b[39m\"\u001b[39m\u001b[39mpickup_location\u001b[39m\u001b[39m\"\u001b[39m] \u001b[39m=\u001b[39m df[\u001b[39m\"\u001b[39;49m\u001b[39mpickup_location\u001b[39;49m\u001b[39m\"\u001b[39;49m]\u001b[39m.\u001b[39;49mapply(Point)\n\u001b[0;32m      3\u001b[0m points \u001b[39m=\u001b[39m gpd\u001b[39m.\u001b[39mGeoDataFrame(df, geometry\u001b[39m=\u001b[39m\u001b[39m\"\u001b[39m\u001b[39mpickup_location\u001b[39m\u001b[39m\"\u001b[39m)\n",
      "File \u001b[1;32mc:\\Users\\PF2L6BL6\\anaconda3\\envs\\pacmann-projects\\lib\\site-packages\\pandas\\core\\series.py:4626\u001b[0m, in \u001b[0;36mSeries.apply\u001b[1;34m(self, func, convert_dtype, args, **kwargs)\u001b[0m\n\u001b[0;32m   4516\u001b[0m \u001b[39mdef\u001b[39;00m \u001b[39mapply\u001b[39m(\n\u001b[0;32m   4517\u001b[0m     \u001b[39mself\u001b[39m,\n\u001b[0;32m   4518\u001b[0m     func: AggFuncType,\n\u001b[1;32m   (...)\u001b[0m\n\u001b[0;32m   4521\u001b[0m     \u001b[39m*\u001b[39m\u001b[39m*\u001b[39mkwargs,\n\u001b[0;32m   4522\u001b[0m ) \u001b[39m-\u001b[39m\u001b[39m>\u001b[39m DataFrame \u001b[39m|\u001b[39m Series:\n\u001b[0;32m   4523\u001b[0m \u001b[39m    \u001b[39m\u001b[39m\"\"\"\u001b[39;00m\n\u001b[0;32m   4524\u001b[0m \u001b[39m    Invoke function on values of Series.\u001b[39;00m\n\u001b[0;32m   4525\u001b[0m \n\u001b[1;32m   (...)\u001b[0m\n\u001b[0;32m   4624\u001b[0m \u001b[39m    dtype: float64\u001b[39;00m\n\u001b[0;32m   4625\u001b[0m \u001b[39m    \"\"\"\u001b[39;00m\n\u001b[1;32m-> 4626\u001b[0m     \u001b[39mreturn\u001b[39;00m SeriesApply(\u001b[39mself\u001b[39;49m, func, convert_dtype, args, kwargs)\u001b[39m.\u001b[39;49mapply()\n",
      "File \u001b[1;32mc:\\Users\\PF2L6BL6\\anaconda3\\envs\\pacmann-projects\\lib\\site-packages\\pandas\\core\\apply.py:1025\u001b[0m, in \u001b[0;36mSeriesApply.apply\u001b[1;34m(self)\u001b[0m\n\u001b[0;32m   1022\u001b[0m     \u001b[39mreturn\u001b[39;00m \u001b[39mself\u001b[39m\u001b[39m.\u001b[39mapply_str()\n\u001b[0;32m   1024\u001b[0m \u001b[39m# self.f is Callable\u001b[39;00m\n\u001b[1;32m-> 1025\u001b[0m \u001b[39mreturn\u001b[39;00m \u001b[39mself\u001b[39;49m\u001b[39m.\u001b[39;49mapply_standard()\n",
      "File \u001b[1;32mc:\\Users\\PF2L6BL6\\anaconda3\\envs\\pacmann-projects\\lib\\site-packages\\pandas\\core\\apply.py:1076\u001b[0m, in \u001b[0;36mSeriesApply.apply_standard\u001b[1;34m(self)\u001b[0m\n\u001b[0;32m   1074\u001b[0m     \u001b[39melse\u001b[39;00m:\n\u001b[0;32m   1075\u001b[0m         values \u001b[39m=\u001b[39m obj\u001b[39m.\u001b[39mastype(\u001b[39mobject\u001b[39m)\u001b[39m.\u001b[39m_values\n\u001b[1;32m-> 1076\u001b[0m         mapped \u001b[39m=\u001b[39m lib\u001b[39m.\u001b[39;49mmap_infer(\n\u001b[0;32m   1077\u001b[0m             values,\n\u001b[0;32m   1078\u001b[0m             f,\n\u001b[0;32m   1079\u001b[0m             convert\u001b[39m=\u001b[39;49m\u001b[39mself\u001b[39;49m\u001b[39m.\u001b[39;49mconvert_dtype,\n\u001b[0;32m   1080\u001b[0m         )\n\u001b[0;32m   1082\u001b[0m \u001b[39mif\u001b[39;00m \u001b[39mlen\u001b[39m(mapped) \u001b[39mand\u001b[39;00m \u001b[39misinstance\u001b[39m(mapped[\u001b[39m0\u001b[39m], ABCSeries):\n\u001b[0;32m   1083\u001b[0m     \u001b[39m# GH#43986 Need to do list(mapped) in order to get treated as nested\u001b[39;00m\n\u001b[0;32m   1084\u001b[0m     \u001b[39m#  See also GH#25959 regarding EA support\u001b[39;00m\n\u001b[0;32m   1085\u001b[0m     \u001b[39mreturn\u001b[39;00m obj\u001b[39m.\u001b[39m_constructor_expanddim(\u001b[39mlist\u001b[39m(mapped), index\u001b[39m=\u001b[39mobj\u001b[39m.\u001b[39mindex)\n",
      "File \u001b[1;32mc:\\Users\\PF2L6BL6\\anaconda3\\envs\\pacmann-projects\\lib\\site-packages\\pandas\\_libs\\lib.pyx:2834\u001b[0m, in \u001b[0;36mpandas._libs.lib.map_infer\u001b[1;34m()\u001b[0m\n",
      "File \u001b[1;32mc:\\Users\\PF2L6BL6\\anaconda3\\envs\\pacmann-projects\\lib\\site-packages\\shapely\\geometry\\point.py:77\u001b[0m, in \u001b[0;36mPoint.__new__\u001b[1;34m(self, *args)\u001b[0m\n\u001b[0;32m     73\u001b[0m     \u001b[39mraise\u001b[39;00m \u001b[39mValueError\u001b[39;00m(\n\u001b[0;32m     74\u001b[0m         \u001b[39mf\u001b[39m\u001b[39m\"\u001b[39m\u001b[39mPoint() takes only scalar or 1-size vector arguments, got \u001b[39m\u001b[39m{\u001b[39;00margs\u001b[39m}\u001b[39;00m\u001b[39m\"\u001b[39m\n\u001b[0;32m     75\u001b[0m     )\n\u001b[0;32m     76\u001b[0m \u001b[39mif\u001b[39;00m \u001b[39mnot\u001b[39;00m np\u001b[39m.\u001b[39missubdtype(coords\u001b[39m.\u001b[39mdtype, np\u001b[39m.\u001b[39mnumber):\n\u001b[1;32m---> 77\u001b[0m     coords \u001b[39m=\u001b[39m [\u001b[39mfloat\u001b[39m(c) \u001b[39mfor\u001b[39;00m c \u001b[39min\u001b[39;00m coords]\n\u001b[0;32m     78\u001b[0m geom \u001b[39m=\u001b[39m shapely\u001b[39m.\u001b[39mpoints(coords)\n\u001b[0;32m     79\u001b[0m \u001b[39mif\u001b[39;00m \u001b[39mnot\u001b[39;00m \u001b[39misinstance\u001b[39m(geom, Point):\n",
      "\u001b[1;31mTypeError\u001b[0m: iteration over a 0-d array"
     ]
    }
   ],
   "source": [
    "df[\"pickup_location\"] = df[\"pickup_location\"].apply(Point)\n",
    "\n",
    "points = gpd.GeoDataFrame(df, geometry=\"pickup_location\")"
   ]
  },
  {
   "cell_type": "code",
   "execution_count": 79,
   "metadata": {},
   "outputs": [
    {
     "data": {
      "text/html": [
       "<div>\n",
       "<style scoped>\n",
       "    .dataframe tbody tr th:only-of-type {\n",
       "        vertical-align: middle;\n",
       "    }\n",
       "\n",
       "    .dataframe tbody tr th {\n",
       "        vertical-align: top;\n",
       "    }\n",
       "\n",
       "    .dataframe thead th {\n",
       "        text-align: right;\n",
       "    }\n",
       "</style>\n",
       "<table border=\"1\" class=\"dataframe\">\n",
       "  <thead>\n",
       "    <tr style=\"text-align: right;\">\n",
       "      <th></th>\n",
       "      <th>unique_key</th>\n",
       "      <th>trip_start_timestamp</th>\n",
       "      <th>trip_end_timestamp</th>\n",
       "      <th>trip_seconds</th>\n",
       "      <th>trip_miles</th>\n",
       "      <th>pickup_community_area</th>\n",
       "      <th>dropoff_community_area</th>\n",
       "      <th>pickup_location</th>\n",
       "      <th>dropoff_location</th>\n",
       "      <th>fare</th>\n",
       "      <th>payment_type</th>\n",
       "      <th>trip_minutes</th>\n",
       "    </tr>\n",
       "  </thead>\n",
       "  <tbody>\n",
       "    <tr>\n",
       "      <th>86578</th>\n",
       "      <td>35772006656fcffae5fc02eaa1e90ec8ea2a6677</td>\n",
       "      <td>2022-09-30 16:00:00 UTC</td>\n",
       "      <td>2022-09-30 16:15:00 UTC</td>\n",
       "      <td>619.0</td>\n",
       "      <td>4.32</td>\n",
       "      <td></td>\n",
       "      <td></td>\n",
       "      <td></td>\n",
       "      <td></td>\n",
       "      <td>13.5</td>\n",
       "      <td>Credit Card</td>\n",
       "      <td>10.32</td>\n",
       "    </tr>\n",
       "    <tr>\n",
       "      <th>86579</th>\n",
       "      <td>4840e16877ca0eb052670e4a30e9a4a259a675bb</td>\n",
       "      <td>2022-10-31 08:15:00 UTC</td>\n",
       "      <td>2022-10-31 09:00:00 UTC</td>\n",
       "      <td>2601.0</td>\n",
       "      <td>20.68</td>\n",
       "      <td></td>\n",
       "      <td>7</td>\n",
       "      <td></td>\n",
       "      <td>POINT (-87.6494887289 41.9226862843)</td>\n",
       "      <td>52.76</td>\n",
       "      <td>Cash</td>\n",
       "      <td>43.35</td>\n",
       "    </tr>\n",
       "  </tbody>\n",
       "</table>\n",
       "</div>"
      ],
      "text/plain": [
       "                                     unique_key     trip_start_timestamp   \n",
       "86578  35772006656fcffae5fc02eaa1e90ec8ea2a6677  2022-09-30 16:00:00 UTC  \\\n",
       "86579  4840e16877ca0eb052670e4a30e9a4a259a675bb  2022-10-31 08:15:00 UTC   \n",
       "\n",
       "            trip_end_timestamp  trip_seconds trip_miles pickup_community_area   \n",
       "86578  2022-09-30 16:15:00 UTC         619.0       4.32                        \\\n",
       "86579  2022-10-31 09:00:00 UTC        2601.0      20.68                         \n",
       "\n",
       "      dropoff_community_area pickup_location   \n",
       "86578                                         \\\n",
       "86579                      7                   \n",
       "\n",
       "                           dropoff_location   fare payment_type  trip_minutes  \n",
       "86578                                         13.5  Credit Card         10.32  \n",
       "86579  POINT (-87.6494887289 41.9226862843)  52.76         Cash         43.35  "
      ]
     },
     "metadata": {},
     "output_type": "display_data"
    }
   ],
   "source": [
    "display(df[df[\"pickup_location\"]==\"\"].head(2))"
   ]
  },
  {
   "cell_type": "code",
   "execution_count": 80,
   "metadata": {},
   "outputs": [
    {
     "data": {
      "text/html": [
       "<div>\n",
       "<style scoped>\n",
       "    .dataframe tbody tr th:only-of-type {\n",
       "        vertical-align: middle;\n",
       "    }\n",
       "\n",
       "    .dataframe tbody tr th {\n",
       "        vertical-align: top;\n",
       "    }\n",
       "\n",
       "    .dataframe thead th {\n",
       "        text-align: right;\n",
       "    }\n",
       "</style>\n",
       "<table border=\"1\" class=\"dataframe\">\n",
       "  <thead>\n",
       "    <tr style=\"text-align: right;\">\n",
       "      <th></th>\n",
       "      <th>unique_key</th>\n",
       "      <th>trip_start_timestamp</th>\n",
       "      <th>trip_end_timestamp</th>\n",
       "      <th>trip_seconds</th>\n",
       "      <th>trip_miles</th>\n",
       "      <th>pickup_community_area</th>\n",
       "      <th>dropoff_community_area</th>\n",
       "      <th>pickup_location</th>\n",
       "      <th>dropoff_location</th>\n",
       "      <th>fare</th>\n",
       "      <th>payment_type</th>\n",
       "      <th>trip_minutes</th>\n",
       "    </tr>\n",
       "  </thead>\n",
       "  <tbody>\n",
       "  </tbody>\n",
       "</table>\n",
       "</div>"
      ],
      "text/plain": [
       "Empty DataFrame\n",
       "Columns: [unique_key, trip_start_timestamp, trip_end_timestamp, trip_seconds, trip_miles, pickup_community_area, dropoff_community_area, pickup_location, dropoff_location, fare, payment_type, trip_minutes]\n",
       "Index: []"
      ]
     },
     "metadata": {},
     "output_type": "display_data"
    }
   ],
   "source": [
    "df = df[(df[\"pickup_location\"]==\"\")==False]\n",
    "\n",
    "display(df[df[\"pickup_location\"]==\"\"].head(2))"
   ]
  },
  {
   "cell_type": "code",
   "execution_count": 81,
   "metadata": {},
   "outputs": [
    {
     "ename": "TypeError",
     "evalue": "iteration over a 0-d array",
     "output_type": "error",
     "traceback": [
      "\u001b[1;31m---------------------------------------------------------------------------\u001b[0m",
      "\u001b[1;31mTypeError\u001b[0m                                 Traceback (most recent call last)",
      "Cell \u001b[1;32mIn[81], line 1\u001b[0m\n\u001b[1;32m----> 1\u001b[0m df[\u001b[39m\"\u001b[39m\u001b[39mpickup_location\u001b[39m\u001b[39m\"\u001b[39m] \u001b[39m=\u001b[39m df[\u001b[39m\"\u001b[39;49m\u001b[39mpickup_location\u001b[39;49m\u001b[39m\"\u001b[39;49m]\u001b[39m.\u001b[39;49mapply(Point)\n\u001b[0;32m      3\u001b[0m points \u001b[39m=\u001b[39m gpd\u001b[39m.\u001b[39mGeoDataFrame(df, geometry\u001b[39m=\u001b[39m\u001b[39m\"\u001b[39m\u001b[39mpickup_location\u001b[39m\u001b[39m\"\u001b[39m)\n",
      "File \u001b[1;32mc:\\Users\\PF2L6BL6\\anaconda3\\envs\\pacmann-projects\\lib\\site-packages\\pandas\\core\\series.py:4626\u001b[0m, in \u001b[0;36mSeries.apply\u001b[1;34m(self, func, convert_dtype, args, **kwargs)\u001b[0m\n\u001b[0;32m   4516\u001b[0m \u001b[39mdef\u001b[39;00m \u001b[39mapply\u001b[39m(\n\u001b[0;32m   4517\u001b[0m     \u001b[39mself\u001b[39m,\n\u001b[0;32m   4518\u001b[0m     func: AggFuncType,\n\u001b[1;32m   (...)\u001b[0m\n\u001b[0;32m   4521\u001b[0m     \u001b[39m*\u001b[39m\u001b[39m*\u001b[39mkwargs,\n\u001b[0;32m   4522\u001b[0m ) \u001b[39m-\u001b[39m\u001b[39m>\u001b[39m DataFrame \u001b[39m|\u001b[39m Series:\n\u001b[0;32m   4523\u001b[0m \u001b[39m    \u001b[39m\u001b[39m\"\"\"\u001b[39;00m\n\u001b[0;32m   4524\u001b[0m \u001b[39m    Invoke function on values of Series.\u001b[39;00m\n\u001b[0;32m   4525\u001b[0m \n\u001b[1;32m   (...)\u001b[0m\n\u001b[0;32m   4624\u001b[0m \u001b[39m    dtype: float64\u001b[39;00m\n\u001b[0;32m   4625\u001b[0m \u001b[39m    \"\"\"\u001b[39;00m\n\u001b[1;32m-> 4626\u001b[0m     \u001b[39mreturn\u001b[39;00m SeriesApply(\u001b[39mself\u001b[39;49m, func, convert_dtype, args, kwargs)\u001b[39m.\u001b[39;49mapply()\n",
      "File \u001b[1;32mc:\\Users\\PF2L6BL6\\anaconda3\\envs\\pacmann-projects\\lib\\site-packages\\pandas\\core\\apply.py:1025\u001b[0m, in \u001b[0;36mSeriesApply.apply\u001b[1;34m(self)\u001b[0m\n\u001b[0;32m   1022\u001b[0m     \u001b[39mreturn\u001b[39;00m \u001b[39mself\u001b[39m\u001b[39m.\u001b[39mapply_str()\n\u001b[0;32m   1024\u001b[0m \u001b[39m# self.f is Callable\u001b[39;00m\n\u001b[1;32m-> 1025\u001b[0m \u001b[39mreturn\u001b[39;00m \u001b[39mself\u001b[39;49m\u001b[39m.\u001b[39;49mapply_standard()\n",
      "File \u001b[1;32mc:\\Users\\PF2L6BL6\\anaconda3\\envs\\pacmann-projects\\lib\\site-packages\\pandas\\core\\apply.py:1076\u001b[0m, in \u001b[0;36mSeriesApply.apply_standard\u001b[1;34m(self)\u001b[0m\n\u001b[0;32m   1074\u001b[0m     \u001b[39melse\u001b[39;00m:\n\u001b[0;32m   1075\u001b[0m         values \u001b[39m=\u001b[39m obj\u001b[39m.\u001b[39mastype(\u001b[39mobject\u001b[39m)\u001b[39m.\u001b[39m_values\n\u001b[1;32m-> 1076\u001b[0m         mapped \u001b[39m=\u001b[39m lib\u001b[39m.\u001b[39;49mmap_infer(\n\u001b[0;32m   1077\u001b[0m             values,\n\u001b[0;32m   1078\u001b[0m             f,\n\u001b[0;32m   1079\u001b[0m             convert\u001b[39m=\u001b[39;49m\u001b[39mself\u001b[39;49m\u001b[39m.\u001b[39;49mconvert_dtype,\n\u001b[0;32m   1080\u001b[0m         )\n\u001b[0;32m   1082\u001b[0m \u001b[39mif\u001b[39;00m \u001b[39mlen\u001b[39m(mapped) \u001b[39mand\u001b[39;00m \u001b[39misinstance\u001b[39m(mapped[\u001b[39m0\u001b[39m], ABCSeries):\n\u001b[0;32m   1083\u001b[0m     \u001b[39m# GH#43986 Need to do list(mapped) in order to get treated as nested\u001b[39;00m\n\u001b[0;32m   1084\u001b[0m     \u001b[39m#  See also GH#25959 regarding EA support\u001b[39;00m\n\u001b[0;32m   1085\u001b[0m     \u001b[39mreturn\u001b[39;00m obj\u001b[39m.\u001b[39m_constructor_expanddim(\u001b[39mlist\u001b[39m(mapped), index\u001b[39m=\u001b[39mobj\u001b[39m.\u001b[39mindex)\n",
      "File \u001b[1;32mc:\\Users\\PF2L6BL6\\anaconda3\\envs\\pacmann-projects\\lib\\site-packages\\pandas\\_libs\\lib.pyx:2834\u001b[0m, in \u001b[0;36mpandas._libs.lib.map_infer\u001b[1;34m()\u001b[0m\n",
      "File \u001b[1;32mc:\\Users\\PF2L6BL6\\anaconda3\\envs\\pacmann-projects\\lib\\site-packages\\shapely\\geometry\\point.py:77\u001b[0m, in \u001b[0;36mPoint.__new__\u001b[1;34m(self, *args)\u001b[0m\n\u001b[0;32m     73\u001b[0m     \u001b[39mraise\u001b[39;00m \u001b[39mValueError\u001b[39;00m(\n\u001b[0;32m     74\u001b[0m         \u001b[39mf\u001b[39m\u001b[39m\"\u001b[39m\u001b[39mPoint() takes only scalar or 1-size vector arguments, got \u001b[39m\u001b[39m{\u001b[39;00margs\u001b[39m}\u001b[39;00m\u001b[39m\"\u001b[39m\n\u001b[0;32m     75\u001b[0m     )\n\u001b[0;32m     76\u001b[0m \u001b[39mif\u001b[39;00m \u001b[39mnot\u001b[39;00m np\u001b[39m.\u001b[39missubdtype(coords\u001b[39m.\u001b[39mdtype, np\u001b[39m.\u001b[39mnumber):\n\u001b[1;32m---> 77\u001b[0m     coords \u001b[39m=\u001b[39m [\u001b[39mfloat\u001b[39m(c) \u001b[39mfor\u001b[39;00m c \u001b[39min\u001b[39;00m coords]\n\u001b[0;32m     78\u001b[0m geom \u001b[39m=\u001b[39m shapely\u001b[39m.\u001b[39mpoints(coords)\n\u001b[0;32m     79\u001b[0m \u001b[39mif\u001b[39;00m \u001b[39mnot\u001b[39;00m \u001b[39misinstance\u001b[39m(geom, Point):\n",
      "\u001b[1;31mTypeError\u001b[0m: iteration over a 0-d array"
     ]
    }
   ],
   "source": [
    "df[\"pickup_location\"] = df[\"pickup_location\"].apply(Point)\n",
    "\n",
    "points = gpd.GeoDataFrame(df, geometry=\"pickup_location\")"
   ]
  },
  {
   "cell_type": "code",
   "execution_count": 82,
   "metadata": {},
   "outputs": [],
   "source": [
    "mask = ~df[\"pickup_location\"].isnull()\n",
    "\n",
    "def parse_point(point_str):\n",
    "    # extract the coordinates\n",
    "    match = re.match(r'POINT \\((-?\\d+\\.\\d+) (-?\\d+\\.\\d+)\\)', point_str)\n",
    "    if match:\n",
    "        # create point\n",
    "        return Point(float(match.group(1)), float(match.group(2)))\n",
    "    else:\n",
    "        return None\n",
    "    \n",
    "df.loc[mask, \"pickup_location\"] = df.loc[mask, \"pickup_location\"].apply(parse_point)\n",
    "df.loc[mask, \"dropoff_location\"] = df.loc[mask, \"dropoff_location\"].apply(parse_point)\n",
    "\n",
    "points = gpd.GeoDataFrame(df, geometry=\"pickup_location\")"
   ]
  },
  {
   "cell_type": "code",
   "execution_count": 85,
   "metadata": {},
   "outputs": [
    {
     "name": "stderr",
     "output_type": "stream",
     "text": [
      "C:\\Users\\PF2L6BL6\\AppData\\Local\\Temp\\ipykernel_11252\\701443741.py:1: UserWarning: CRS mismatch between the CRS of left geometries and the CRS of right geometries.\n",
      "Use `to_crs()` to reproject one of the input geometries to match the CRS of the other.\n",
      "\n",
      "Left CRS: None\n",
      "Right CRS: EPSG:4326\n",
      "\n",
      "  joined_df = gpd.tools.sjoin(points, boundaries, predicate=\"within\", how='left')\n"
     ]
    },
    {
     "data": {
      "text/html": [
       "<div>\n",
       "<style scoped>\n",
       "    .dataframe tbody tr th:only-of-type {\n",
       "        vertical-align: middle;\n",
       "    }\n",
       "\n",
       "    .dataframe tbody tr th {\n",
       "        vertical-align: top;\n",
       "    }\n",
       "\n",
       "    .dataframe thead th {\n",
       "        text-align: right;\n",
       "    }\n",
       "</style>\n",
       "<table border=\"1\" class=\"dataframe\">\n",
       "  <thead>\n",
       "    <tr style=\"text-align: right;\">\n",
       "      <th></th>\n",
       "      <th>unique_key</th>\n",
       "      <th>trip_start_timestamp</th>\n",
       "      <th>trip_end_timestamp</th>\n",
       "      <th>trip_seconds</th>\n",
       "      <th>trip_miles</th>\n",
       "      <th>pickup_community_area</th>\n",
       "      <th>dropoff_community_area</th>\n",
       "      <th>pickup_location</th>\n",
       "      <th>dropoff_location</th>\n",
       "      <th>fare</th>\n",
       "      <th>payment_type</th>\n",
       "      <th>trip_minutes</th>\n",
       "      <th>pickup_community</th>\n",
       "    </tr>\n",
       "  </thead>\n",
       "  <tbody>\n",
       "    <tr>\n",
       "      <th>1</th>\n",
       "      <td>3696bb7f386062eb3f42a48ae2a7df55cb290853</td>\n",
       "      <td>2022-09-30 23:30:00 UTC</td>\n",
       "      <td>2022-09-30 23:45:00 UTC</td>\n",
       "      <td>596.0</td>\n",
       "      <td>2.54</td>\n",
       "      <td>21</td>\n",
       "      <td>14</td>\n",
       "      <td>POINT (-87.71121 41.93867)</td>\n",
       "      <td>POINT (-87.7215590627 41.968069)</td>\n",
       "      <td>9.5</td>\n",
       "      <td>Cash</td>\n",
       "      <td>9.93</td>\n",
       "      <td>Avondale</td>\n",
       "    </tr>\n",
       "    <tr>\n",
       "      <th>2</th>\n",
       "      <td>5b91f49428e134433e329c3b133b5a73fc466287</td>\n",
       "      <td>2022-09-30 12:45:00 UTC</td>\n",
       "      <td>2022-09-30 13:15:00 UTC</td>\n",
       "      <td>1740.0</td>\n",
       "      <td>8.8</td>\n",
       "      <td>40</td>\n",
       "      <td>8</td>\n",
       "      <td>POINT (-87.61793 41.79236)</td>\n",
       "      <td>POINT (-87.6333080367 41.899602111)</td>\n",
       "      <td>26.25</td>\n",
       "      <td>Unknown</td>\n",
       "      <td>29.00</td>\n",
       "      <td>Washington Park</td>\n",
       "    </tr>\n",
       "  </tbody>\n",
       "</table>\n",
       "</div>"
      ],
      "text/plain": [
       "                                 unique_key     trip_start_timestamp   \n",
       "1  3696bb7f386062eb3f42a48ae2a7df55cb290853  2022-09-30 23:30:00 UTC  \\\n",
       "2  5b91f49428e134433e329c3b133b5a73fc466287  2022-09-30 12:45:00 UTC   \n",
       "\n",
       "        trip_end_timestamp  trip_seconds trip_miles pickup_community_area   \n",
       "1  2022-09-30 23:45:00 UTC         596.0       2.54                    21  \\\n",
       "2  2022-09-30 13:15:00 UTC        1740.0        8.8                    40   \n",
       "\n",
       "  dropoff_community_area             pickup_location   \n",
       "1                     14  POINT (-87.71121 41.93867)  \\\n",
       "2                      8  POINT (-87.61793 41.79236)   \n",
       "\n",
       "                      dropoff_location   fare payment_type  trip_minutes   \n",
       "1     POINT (-87.7215590627 41.968069)    9.5         Cash          9.93  \\\n",
       "2  POINT (-87.6333080367 41.899602111)  26.25      Unknown         29.00   \n",
       "\n",
       "  pickup_community  \n",
       "1         Avondale  \n",
       "2  Washington Park  "
      ]
     },
     "execution_count": 85,
     "metadata": {},
     "output_type": "execute_result"
    }
   ],
   "source": [
    "joined_df = gpd.tools.sjoin(points, boundaries, predicate=\"within\", how='left')\n",
    "joined_df = joined_df.rename(columns={\"community\":\"pickup_community\"})\n",
    "joined_df = joined_df.drop([\"index_right\"], axis=1)\n",
    "\n",
    "joined_df.head(2)"
   ]
  },
  {
   "cell_type": "code",
   "execution_count": 86,
   "metadata": {},
   "outputs": [
    {
     "name": "stderr",
     "output_type": "stream",
     "text": [
      "C:\\Users\\PF2L6BL6\\AppData\\Local\\Temp\\ipykernel_11252\\4119031663.py:3: UserWarning: CRS mismatch between the CRS of left geometries and the CRS of right geometries.\n",
      "Use `to_crs()` to reproject one of the input geometries to match the CRS of the other.\n",
      "\n",
      "Left CRS: None\n",
      "Right CRS: EPSG:4326\n",
      "\n",
      "  joined_df2 = gpd.tools.sjoin(points2, boundaries, predicate=\"within\", how='left')\n"
     ]
    },
    {
     "data": {
      "text/html": [
       "<div>\n",
       "<style scoped>\n",
       "    .dataframe tbody tr th:only-of-type {\n",
       "        vertical-align: middle;\n",
       "    }\n",
       "\n",
       "    .dataframe tbody tr th {\n",
       "        vertical-align: top;\n",
       "    }\n",
       "\n",
       "    .dataframe thead th {\n",
       "        text-align: right;\n",
       "    }\n",
       "</style>\n",
       "<table border=\"1\" class=\"dataframe\">\n",
       "  <thead>\n",
       "    <tr style=\"text-align: right;\">\n",
       "      <th></th>\n",
       "      <th>unique_key</th>\n",
       "      <th>trip_start_timestamp</th>\n",
       "      <th>trip_end_timestamp</th>\n",
       "      <th>trip_seconds</th>\n",
       "      <th>trip_miles</th>\n",
       "      <th>pickup_community_area</th>\n",
       "      <th>dropoff_community_area</th>\n",
       "      <th>pickup_location</th>\n",
       "      <th>dropoff_location</th>\n",
       "      <th>fare</th>\n",
       "      <th>payment_type</th>\n",
       "      <th>trip_minutes</th>\n",
       "      <th>pickup_community</th>\n",
       "      <th>dropoff_community</th>\n",
       "    </tr>\n",
       "  </thead>\n",
       "  <tbody>\n",
       "    <tr>\n",
       "      <th>1</th>\n",
       "      <td>3696bb7f386062eb3f42a48ae2a7df55cb290853</td>\n",
       "      <td>2022-09-30 23:30:00 UTC</td>\n",
       "      <td>2022-09-30 23:45:00 UTC</td>\n",
       "      <td>596.0</td>\n",
       "      <td>2.54</td>\n",
       "      <td>21</td>\n",
       "      <td>14</td>\n",
       "      <td>POINT (-87.71121 41.93867)</td>\n",
       "      <td>POINT (-87.72156 41.96807)</td>\n",
       "      <td>9.5</td>\n",
       "      <td>Cash</td>\n",
       "      <td>9.93</td>\n",
       "      <td>Avondale</td>\n",
       "      <td>Albany Park</td>\n",
       "    </tr>\n",
       "    <tr>\n",
       "      <th>2</th>\n",
       "      <td>5b91f49428e134433e329c3b133b5a73fc466287</td>\n",
       "      <td>2022-09-30 12:45:00 UTC</td>\n",
       "      <td>2022-09-30 13:15:00 UTC</td>\n",
       "      <td>1740.0</td>\n",
       "      <td>8.8</td>\n",
       "      <td>40</td>\n",
       "      <td>8</td>\n",
       "      <td>POINT (-87.61793 41.79236)</td>\n",
       "      <td>POINT (-87.63331 41.89960)</td>\n",
       "      <td>26.25</td>\n",
       "      <td>Unknown</td>\n",
       "      <td>29.00</td>\n",
       "      <td>Washington Park</td>\n",
       "      <td>Near North Side</td>\n",
       "    </tr>\n",
       "  </tbody>\n",
       "</table>\n",
       "</div>"
      ],
      "text/plain": [
       "                                 unique_key     trip_start_timestamp   \n",
       "1  3696bb7f386062eb3f42a48ae2a7df55cb290853  2022-09-30 23:30:00 UTC  \\\n",
       "2  5b91f49428e134433e329c3b133b5a73fc466287  2022-09-30 12:45:00 UTC   \n",
       "\n",
       "        trip_end_timestamp  trip_seconds trip_miles pickup_community_area   \n",
       "1  2022-09-30 23:45:00 UTC         596.0       2.54                    21  \\\n",
       "2  2022-09-30 13:15:00 UTC        1740.0        8.8                    40   \n",
       "\n",
       "  dropoff_community_area             pickup_location   \n",
       "1                     14  POINT (-87.71121 41.93867)  \\\n",
       "2                      8  POINT (-87.61793 41.79236)   \n",
       "\n",
       "             dropoff_location   fare payment_type  trip_minutes   \n",
       "1  POINT (-87.72156 41.96807)    9.5         Cash          9.93  \\\n",
       "2  POINT (-87.63331 41.89960)  26.25      Unknown         29.00   \n",
       "\n",
       "  pickup_community dropoff_community  \n",
       "1         Avondale       Albany Park  \n",
       "2  Washington Park   Near North Side  "
      ]
     },
     "execution_count": 86,
     "metadata": {},
     "output_type": "execute_result"
    }
   ],
   "source": [
    "points2 = gpd.GeoDataFrame(joined_df, geometry=\"dropoff_location\")\n",
    "\n",
    "joined_df2 = gpd.tools.sjoin(points2, boundaries, predicate=\"within\", how='left')\n",
    "joined_df2 = joined_df2.rename(columns={\"community\":\"dropoff_community\"})\n",
    "joined_df2 = joined_df2.drop([\"index_right\"], axis=1)\n",
    "\n",
    "joined_df2.head(2)"
   ]
  },
  {
   "cell_type": "code",
   "execution_count": 91,
   "metadata": {},
   "outputs": [
    {
     "data": {
      "text/plain": [
       "77"
      ]
     },
     "execution_count": 91,
     "metadata": {},
     "output_type": "execute_result"
    }
   ],
   "source": [
    "joined_df2[\"pickup_community\"].nunique()"
   ]
  },
  {
   "cell_type": "code",
   "execution_count": null,
   "metadata": {},
   "outputs": [],
   "source": []
  },
  {
   "cell_type": "code",
   "execution_count": null,
   "metadata": {},
   "outputs": [],
   "source": []
  },
  {
   "cell_type": "code",
   "execution_count": null,
   "metadata": {},
   "outputs": [],
   "source": []
  },
  {
   "cell_type": "code",
   "execution_count": null,
   "metadata": {},
   "outputs": [],
   "source": []
  },
  {
   "cell_type": "code",
   "execution_count": null,
   "metadata": {},
   "outputs": [],
   "source": []
  },
  {
   "cell_type": "code",
   "execution_count": null,
   "metadata": {},
   "outputs": [],
   "source": []
  },
  {
   "cell_type": "code",
   "execution_count": null,
   "metadata": {},
   "outputs": [],
   "source": []
  },
  {
   "cell_type": "code",
   "execution_count": null,
   "metadata": {},
   "outputs": [],
   "source": []
  },
  {
   "cell_type": "code",
   "execution_count": null,
   "metadata": {},
   "outputs": [],
   "source": []
  }
 ],
 "metadata": {
  "kernelspec": {
   "display_name": "pacmann-projects",
   "language": "python",
   "name": "python3"
  },
  "language_info": {
   "codemirror_mode": {
    "name": "ipython",
    "version": 3
   },
   "file_extension": ".py",
   "mimetype": "text/x-python",
   "name": "python",
   "nbconvert_exporter": "python",
   "pygments_lexer": "ipython3",
   "version": "3.10.10"
  },
  "orig_nbformat": 4
 },
 "nbformat": 4,
 "nbformat_minor": 2
}
